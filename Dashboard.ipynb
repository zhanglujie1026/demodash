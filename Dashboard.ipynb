{
 "cells": [
  {
   "cell_type": "markdown",
   "metadata": {},
   "source": [
    "[DIY Covid-19 Dashboard Kit](https://github.com/fsmeraldi/diy-covid19dash) (C) Fabrizio Smeraldi, 2020 ([f.smeraldi@qmul.ac.uk](mailto:f.smeraldi@qmul.ac.uk) - [web](http://www.eecs.qmul.ac.uk/~fabri/)). This notebook is released under the [GNU GPLv3.0 or later](https://www.gnu.org/licenses/)."
   ]
  },
  {
   "cell_type": "markdown",
   "metadata": {},
   "source": [
    "# DIY Covid-19 Dashboard"
   ]
  },
  {
   "cell_type": "markdown",
   "metadata": {},
   "source": [
    "This is a template for your DIY Covid Dashboard, to which you can add the code you developed in the previous notebooks. The dashboard will be displayed using [voila](https://voila.readthedocs.io/en/stable/index.html), a Python dashboarding tool that converts notebooks to standalone dashboards. Contrary to the other libraries we have seen, the ```voila``` package must be installed using *pip* or *conda* but it does not need to be imported - it rather acts at the level of the notebook server. Package ```voila``` is already installed on the QMUL JupyterHub as well as in the Binder - to install it locally, follow the [instructions](https://voila.readthedocs.io/en/stable/install.html) online.\n",
    "\n",
    "Broadly speaking, Voila acts by **running all the cells in your notebook** when the dashboard is first loaded; it then hides all code cells and displays all markdown cells and any outputs, including widgets. However, the code is still there in the background and handles any interaction with the widgets. To view this dashboard template rendered in Voila click [here](https://mybinder.org/v2/gh/fsmeraldi/diy-covid19dash/main?urlpath=%2Fvoila%2Frender%2FDashboard.ipynb)."
   ]
  },
  {
   "cell_type": "code",
   "execution_count": 1,
   "metadata": {},
   "outputs": [],
   "source": [
    "from IPython.display import clear_output\n",
    "import ipywidgets as wdg\n",
    "import pandas as pd\n",
    "import numpy as np\n",
    "import matplotlib.pyplot as plt\n",
    "import json\n",
    "from uk_covid19 import Cov19API"
   ]
  },
  {
   "cell_type": "code",
   "execution_count": 2,
   "metadata": {},
   "outputs": [],
   "source": [
    "%matplotlib inline\n",
    "# make figures larger\n",
    "plt.rcParams['figure.dpi'] = 100"
   ]
  },
  {
   "cell_type": "markdown",
   "metadata": {},
   "source": [
    "## Load initial data from disk\n",
    "\n",
    "You should include \"canned\" data in ```.json``` files along with your dashboard. When the dashboard starts, it should load that data and assign it as a dictionary to the ```jsondata``` variable (the code below will be hidden when the dashboard is rendered by Voila)."
   ]
  },
  {
   "cell_type": "code",
   "execution_count": 3,
   "metadata": {
    "collapsed": true,
    "jupyter": {
     "outputs_hidden": true
    }
   },
   "outputs": [
    {
     "data": {
      "text/plain": [
       "{'data': [{'date': '2023-11-24', 'occipiedBeds': None, 'hospital': 1880},\n",
       "  {'date': '2023-11-17', 'occipiedBeds': None, 'hospital': 2012},\n",
       "  {'date': '2023-11-10', 'occipiedBeds': None, 'hospital': 2300},\n",
       "  {'date': '2023-11-03', 'occipiedBeds': None, 'hospital': 2506},\n",
       "  {'date': '2023-10-27', 'occipiedBeds': None, 'hospital': 3062},\n",
       "  {'date': '2023-10-20', 'occipiedBeds': None, 'hospital': 3378},\n",
       "  {'date': '2023-10-13', 'occipiedBeds': None, 'hospital': 3969},\n",
       "  {'date': '2023-10-06', 'occipiedBeds': None, 'hospital': 4312},\n",
       "  {'date': '2023-09-29', 'occipiedBeds': None, 'hospital': 3830},\n",
       "  {'date': '2023-09-22', 'occipiedBeds': None, 'hospital': 3060},\n",
       "  {'date': '2023-09-15', 'occipiedBeds': None, 'hospital': 2766},\n",
       "  {'date': '2023-09-08', 'occipiedBeds': None, 'hospital': 3287},\n",
       "  {'date': '2023-09-01', 'occipiedBeds': None, 'hospital': 2535},\n",
       "  {'date': '2023-08-25', 'occipiedBeds': None, 'hospital': 2282},\n",
       "  {'date': '2023-08-18', 'occipiedBeds': None, 'hospital': 2254},\n",
       "  {'date': '2023-08-11', 'occipiedBeds': None, 'hospital': 2147},\n",
       "  {'date': '2023-08-04', 'occipiedBeds': None, 'hospital': 1804},\n",
       "  {'date': '2023-07-28', 'occipiedBeds': None, 'hospital': 1437},\n",
       "  {'date': '2023-07-21', 'occipiedBeds': None, 'hospital': 1027},\n",
       "  {'date': '2023-07-14', 'occipiedBeds': None, 'hospital': 931},\n",
       "  {'date': '2023-07-07', 'occipiedBeds': None, 'hospital': 757},\n",
       "  {'date': '2023-06-30', 'occipiedBeds': None, 'hospital': 721},\n",
       "  {'date': '2023-06-23', 'occipiedBeds': None, 'hospital': 916},\n",
       "  {'date': '2023-06-16', 'occipiedBeds': None, 'hospital': 1388},\n",
       "  {'date': '2023-06-09', 'occipiedBeds': None, 'hospital': 1708},\n",
       "  {'date': '2023-06-02', 'occipiedBeds': None, 'hospital': 1867},\n",
       "  {'date': '2023-05-26', 'occipiedBeds': 79, 'hospital': 2228},\n",
       "  {'date': '2023-05-19', 'occipiedBeds': 92, 'hospital': 2319},\n",
       "  {'date': '2023-05-12', 'occipiedBeds': 102, 'hospital': 2829},\n",
       "  {'date': '2023-05-05', 'occipiedBeds': 100, 'hospital': 3143},\n",
       "  {'date': '2023-04-28', 'occipiedBeds': 94, 'hospital': 3485},\n",
       "  {'date': '2023-04-21', 'occipiedBeds': 112, 'hospital': 3788},\n",
       "  {'date': '2023-04-14', 'occipiedBeds': 143, 'hospital': 4320},\n",
       "  {'date': '2023-04-07', 'occipiedBeds': 144, 'hospital': 4958},\n",
       "  {'date': '2023-03-31', 'occipiedBeds': 186, 'hospital': 5942},\n",
       "  {'date': '2023-03-24', 'occipiedBeds': 170, 'hospital': 6787},\n",
       "  {'date': '2023-03-17', 'occipiedBeds': 172, 'hospital': 7159},\n",
       "  {'date': '2023-03-10', 'occipiedBeds': 180, 'hospital': 6584},\n",
       "  {'date': '2023-03-03', 'occipiedBeds': 158, 'hospital': 6187},\n",
       "  {'date': '2023-02-24', 'occipiedBeds': 156, 'hospital': 6000},\n",
       "  {'date': '2023-02-17', 'occipiedBeds': 134, 'hospital': 6192},\n",
       "  {'date': '2023-02-10', 'occipiedBeds': 133, 'hospital': 5286},\n",
       "  {'date': '2023-02-03', 'occipiedBeds': 139, 'hospital': 4826},\n",
       "  {'date': '2023-01-27', 'occipiedBeds': 131, 'hospital': 4313},\n",
       "  {'date': '2023-01-20', 'occipiedBeds': 133, 'hospital': 3808},\n",
       "  {'date': '2023-01-13', 'occipiedBeds': 166, 'hospital': 4668},\n",
       "  {'date': '2023-01-06', 'occipiedBeds': 209, 'hospital': 5941},\n",
       "  {'date': '2022-12-30', 'occipiedBeds': 223, 'hospital': 7156},\n",
       "  {'date': '2022-12-23', 'occipiedBeds': 178, 'hospital': 8075},\n",
       "  {'date': '2022-12-16', 'occipiedBeds': 156, 'hospital': 6306},\n",
       "  {'date': '2022-12-09', 'occipiedBeds': 113, 'hospital': 4642},\n",
       "  {'date': '2022-12-02', 'occipiedBeds': 135, 'hospital': 3936},\n",
       "  {'date': '2022-11-25', 'occipiedBeds': 129, 'hospital': 3380},\n",
       "  {'date': '2022-11-18', 'occipiedBeds': 129, 'hospital': 3326},\n",
       "  {'date': '2022-11-11', 'occipiedBeds': 137, 'hospital': 3564},\n",
       "  {'date': '2022-11-04', 'occipiedBeds': 161, 'hospital': 4026},\n",
       "  {'date': '2022-10-28', 'occipiedBeds': 217, 'hospital': 5590},\n",
       "  {'date': '2022-10-21', 'occipiedBeds': 194, 'hospital': 7276},\n",
       "  {'date': '2022-10-14', 'occipiedBeds': 224, 'hospital': 7994},\n",
       "  {'date': '2022-10-07', 'occipiedBeds': 199, 'hospital': 8483},\n",
       "  {'date': '2022-09-30', 'occipiedBeds': 155, 'hospital': 6903},\n",
       "  {'date': '2022-09-23', 'occipiedBeds': 153, 'hospital': 5054},\n",
       "  {'date': '2022-09-16', 'occipiedBeds': 122, 'hospital': 3621},\n",
       "  {'date': '2022-09-09', 'occipiedBeds': 122, 'hospital': 3444},\n",
       "  {'date': '2022-09-02', 'occipiedBeds': 143, 'hospital': 3808},\n",
       "  {'date': '2022-08-26', 'occipiedBeds': 135, 'hospital': 4368},\n",
       "  {'date': '2022-08-19', 'occipiedBeds': 182, 'hospital': 5328},\n",
       "  {'date': '2022-08-12', 'occipiedBeds': 196, 'hospital': 6272},\n",
       "  {'date': '2022-08-05', 'occipiedBeds': 229, 'hospital': 7242},\n",
       "  {'date': '2022-07-29', 'occipiedBeds': 253, 'hospital': 8467},\n",
       "  {'date': '2022-07-22', 'occipiedBeds': 292, 'hospital': 11151},\n",
       "  {'date': '2022-07-15', 'occipiedBeds': 287, 'hospital': 12712},\n",
       "  {'date': '2022-07-08', 'occipiedBeds': 228, 'hospital': 12614},\n",
       "  {'date': '2022-07-01', 'occipiedBeds': 219, 'hospital': 9673},\n",
       "  {'date': '2022-06-24', 'occipiedBeds': 168, 'hospital': 7364},\n",
       "  {'date': '2022-06-17', 'occipiedBeds': 120, 'hospital': 5220},\n",
       "  {'date': '2022-06-10', 'occipiedBeds': 117, 'hospital': 4037},\n",
       "  {'date': '2022-06-03', 'occipiedBeds': 125, 'hospital': 3073},\n",
       "  {'date': '2022-05-27', 'occipiedBeds': 134, 'hospital': 3154},\n",
       "  {'date': '2022-05-20', 'occipiedBeds': 171, 'hospital': 3933},\n",
       "  {'date': '2022-05-13', 'occipiedBeds': 162, 'hospital': 4626},\n",
       "  {'date': '2022-05-06', 'occipiedBeds': 211, 'hospital': 5617},\n",
       "  {'date': '2022-04-29', 'occipiedBeds': 259, 'hospital': 7292},\n",
       "  {'date': '2022-04-22', 'occipiedBeds': 283, 'hospital': 9346},\n",
       "  {'date': '2022-04-15', 'occipiedBeds': 271, 'hospital': 12382},\n",
       "  {'date': '2022-04-08', 'occipiedBeds': 315, 'hospital': 14327},\n",
       "  {'date': '2022-04-01', 'occipiedBeds': 311, 'hospital': 14730},\n",
       "  {'date': '2022-03-25', 'occipiedBeds': 290, 'hospital': 13756},\n",
       "  {'date': '2022-03-18', 'occipiedBeds': 240, 'hospital': 11600},\n",
       "  {'date': '2022-03-11', 'occipiedBeds': 221, 'hospital': 9324},\n",
       "  {'date': '2022-03-04', 'occipiedBeds': 232, 'hospital': 7547},\n",
       "  {'date': '2022-02-25', 'occipiedBeds': 246, 'hospital': 6612},\n",
       "  {'date': '2022-02-18', 'occipiedBeds': 303, 'hospital': 7285},\n",
       "  {'date': '2022-02-11', 'occipiedBeds': 372, 'hospital': 8171},\n",
       "  {'date': '2022-02-04', 'occipiedBeds': 425, 'hospital': 9527},\n",
       "  {'date': '2022-01-28', 'occipiedBeds': 467, 'hospital': 10620},\n",
       "  {'date': '2022-01-21', 'occipiedBeds': 552, 'hospital': 11903},\n",
       "  {'date': '2022-01-14', 'occipiedBeds': 637, 'hospital': 13707},\n",
       "  {'date': '2022-01-07', 'occipiedBeds': 728, 'hospital': 13974},\n",
       "  {'date': '2021-12-31', 'occipiedBeds': 789, 'hospital': 12753},\n",
       "  {'date': '2021-12-24', 'occipiedBeds': 742, 'hospital': 7338},\n",
       "  {'date': '2021-12-17', 'occipiedBeds': 789, 'hospital': 5402},\n",
       "  {'date': '2021-12-10', 'occipiedBeds': 793, 'hospital': 5158},\n",
       "  {'date': '2021-12-03', 'occipiedBeds': 783, 'hospital': 4625},\n",
       "  {'date': '2021-11-26', 'occipiedBeds': 796, 'hospital': 4542},\n",
       "  {'date': '2021-11-19', 'occipiedBeds': 769, 'hospital': 4802},\n",
       "  {'date': '2021-11-12', 'occipiedBeds': 838, 'hospital': 5432},\n",
       "  {'date': '2021-11-05', 'occipiedBeds': 860, 'hospital': 5601},\n",
       "  {'date': '2021-10-29', 'occipiedBeds': 809, 'hospital': 6044},\n",
       "  {'date': '2021-10-22', 'occipiedBeds': 746, 'hospital': 5823},\n",
       "  {'date': '2021-10-15', 'occipiedBeds': 673, 'hospital': 4898},\n",
       "  {'date': '2021-10-08', 'occipiedBeds': 647, 'hospital': 4296},\n",
       "  {'date': '2021-10-01', 'occipiedBeds': 671, 'hospital': 3965},\n",
       "  {'date': '2021-09-24', 'occipiedBeds': 730, 'hospital': 4046},\n",
       "  {'date': '2021-09-17', 'occipiedBeds': 844, 'hospital': 4599},\n",
       "  {'date': '2021-09-10', 'occipiedBeds': 898, 'hospital': 5445},\n",
       "  {'date': '2021-09-03', 'occipiedBeds': 889, 'hospital': 5306},\n",
       "  {'date': '2021-08-27', 'occipiedBeds': 874, 'hospital': 5501},\n",
       "  {'date': '2021-08-20', 'occipiedBeds': 857, 'hospital': 5368},\n",
       "  {'date': '2021-08-13', 'occipiedBeds': 793, 'hospital': 4905},\n",
       "  {'date': '2021-08-06', 'occipiedBeds': 765, 'hospital': 4701},\n",
       "  {'date': '2021-07-30', 'occipiedBeds': 785, 'hospital': 5352},\n",
       "  {'date': '2021-07-23', 'occipiedBeds': 625, 'hospital': 5212},\n",
       "  {'date': '2021-07-16', 'occipiedBeds': 512, 'hospital': 4062},\n",
       "  {'date': '2021-07-09', 'occipiedBeds': 393, 'hospital': 2987},\n",
       "  {'date': '2021-07-02', 'occipiedBeds': 297, 'hospital': 1909},\n",
       "  {'date': '2021-06-25', 'occipiedBeds': 238, 'hospital': 1326},\n",
       "  {'date': '2021-06-18', 'occipiedBeds': 210, 'hospital': 1261},\n",
       "  {'date': '2021-06-11', 'occipiedBeds': 146, 'hospital': 959},\n",
       "  {'date': '2021-06-04', 'occipiedBeds': 119, 'hospital': 652},\n",
       "  {'date': '2021-05-28', 'occipiedBeds': 116, 'hospital': 608},\n",
       "  {'date': '2021-05-21', 'occipiedBeds': 117, 'hospital': 569},\n",
       "  {'date': '2021-05-14', 'occipiedBeds': 115, 'hospital': 550},\n",
       "  {'date': '2021-05-07', 'occipiedBeds': 145, 'hospital': 595},\n",
       "  {'date': '2021-04-30', 'occipiedBeds': 170, 'hospital': 693},\n",
       "  {'date': '2021-04-23', 'occipiedBeds': 221, 'hospital': 825},\n",
       "  {'date': '2021-04-16', 'occipiedBeds': 298, 'hospital': 1053},\n",
       "  {'date': '2021-04-09', 'occipiedBeds': 362, 'hospital': 1229},\n",
       "  {'date': '2021-04-02', 'occipiedBeds': 436, 'hospital': 1444},\n",
       "  {'date': '2021-03-26', 'occipiedBeds': 559, 'hospital': 1965},\n",
       "  {'date': '2021-03-19', 'occipiedBeds': 749, 'hospital': 2514},\n",
       "  {'date': '2021-03-12', 'occipiedBeds': 1023, 'hospital': 3302},\n",
       "  {'date': '2021-03-05', 'occipiedBeds': 1417, 'hospital': 4363},\n",
       "  {'date': '2021-02-26', 'occipiedBeds': 1808, 'hospital': 6292},\n",
       "  {'date': '2021-02-19', 'occipiedBeds': 2251, 'hospital': 8687},\n",
       "  {'date': '2021-02-12', 'occipiedBeds': 2688, 'hospital': 10917},\n",
       "  {'date': '2021-02-05', 'occipiedBeds': 3217, 'hospital': 14705},\n",
       "  {'date': '2021-01-29', 'occipiedBeds': 3506, 'hospital': 18891},\n",
       "  {'date': '2021-01-22', 'occipiedBeds': 3727, 'hospital': 24404},\n",
       "  {'date': '2021-01-15', 'occipiedBeds': 3464, 'hospital': 26130},\n",
       "  {'date': '2021-01-08', 'occipiedBeds': 2814, 'hospital': 25145},\n",
       "  {'date': '2021-01-01', 'occipiedBeds': 1940, 'hospital': 18958},\n",
       "  {'date': '2020-12-25', 'occipiedBeds': 1437, 'hospital': 13833},\n",
       "  {'date': '2020-12-18', 'occipiedBeds': 1190, 'hospital': 11985},\n",
       "  {'date': '2020-12-11', 'occipiedBeds': 1117, 'hospital': 10015},\n",
       "  {'date': '2020-12-04', 'occipiedBeds': 1113, 'hospital': 8614},\n",
       "  {'date': '2020-11-27', 'occipiedBeds': 1242, 'hospital': 8918},\n",
       "  {'date': '2020-11-20', 'occipiedBeds': 1241, 'hospital': 10277},\n",
       "  {'date': '2020-11-13', 'occipiedBeds': 1158, 'hospital': 10760},\n",
       "  {'date': '2020-11-06', 'occipiedBeds': 984, 'hospital': 9007},\n",
       "  {'date': '2020-10-30', 'occipiedBeds': 801, 'hospital': 8338},\n",
       "  {'date': '2020-10-23', 'occipiedBeds': 602, 'hospital': 6422},\n",
       "  {'date': '2020-10-16', 'occipiedBeds': 482, 'hospital': 4701},\n",
       "  {'date': '2020-10-09', 'occipiedBeds': 367, 'hospital': 3408},\n",
       "  {'date': '2020-10-02', 'occipiedBeds': 311, 'hospital': 2171},\n",
       "  {'date': '2020-09-25', 'occipiedBeds': 227, 'hospital': 1860},\n",
       "  {'date': '2020-09-18', 'occipiedBeds': 115, 'hospital': 1249},\n",
       "  {'date': '2020-09-11', 'occipiedBeds': 129, 'hospital': 776},\n",
       "  {'date': '2020-09-04', 'occipiedBeds': 54, 'hospital': 415},\n",
       "  {'date': '2020-08-28', 'occipiedBeds': 52, 'hospital': 335},\n",
       "  {'date': '2020-08-21', 'occipiedBeds': 64, 'hospital': 331},\n",
       "  {'date': '2020-08-14', 'occipiedBeds': 63, 'hospital': 410},\n",
       "  {'date': '2020-08-07', 'occipiedBeds': 57, 'hospital': 411},\n",
       "  {'date': '2020-07-31', 'occipiedBeds': 71, 'hospital': 473},\n",
       "  {'date': '2020-07-24', 'occipiedBeds': 92, 'hospital': 569},\n",
       "  {'date': '2020-07-17', 'occipiedBeds': 122, 'hospital': 741},\n",
       "  {'date': '2020-07-10', 'occipiedBeds': 162, 'hospital': 930},\n",
       "  {'date': '2020-07-03', 'occipiedBeds': 202, 'hospital': 1221},\n",
       "  {'date': '2020-06-26', 'occipiedBeds': 226, 'hospital': 1758},\n",
       "  {'date': '2020-06-19', 'occipiedBeds': 283, 'hospital': 2189},\n",
       "  {'date': '2020-06-12', 'occipiedBeds': 336, 'hospital': 2404},\n",
       "  {'date': '2020-06-05', 'occipiedBeds': 481, 'hospital': 3316},\n",
       "  {'date': '2020-05-29', 'occipiedBeds': 630, 'hospital': 3735},\n",
       "  {'date': '2020-05-22', 'occipiedBeds': 852, 'hospital': 4914},\n",
       "  {'date': '2020-05-15', 'occipiedBeds': 1200, 'hospital': 5569},\n",
       "  {'date': '2020-05-08', 'occipiedBeds': 1446, 'hospital': 6827},\n",
       "  {'date': '2020-05-01', 'occipiedBeds': 1954, 'hospital': 8531},\n",
       "  {'date': '2020-04-24', 'occipiedBeds': 2414, 'hospital': 9779},\n",
       "  {'date': '2020-04-17', 'occipiedBeds': 2780, 'hospital': 12576},\n",
       "  {'date': '2020-04-10', 'occipiedBeds': 2820, 'hospital': 17763},\n",
       "  {'date': '2020-04-03', 'occipiedBeds': 1788, 'hospital': 17918},\n",
       "  {'date': '2020-03-27', 'occipiedBeds': None, 'hospital': 9633},\n",
       "  {'date': '2020-03-20', 'occipiedBeds': None, 'hospital': 1277}],\n",
       " 'lastUpdate': '2023-11-30T18:00:03.000000Z',\n",
       " 'length': 193,\n",
       " 'totalPages': 1}"
      ]
     },
     "execution_count": 3,
     "metadata": {},
     "output_type": "execute_result"
    }
   ],
   "source": [
    "# Load JSON files and store the raw data in some variable. Edit as appropriate\n",
    "with open(\"occipiedBeds.json\", \"rt\") as INFILE:\n",
    "    jsondata=json.load(INFILE)"
   ]
  },
  {
   "cell_type": "markdown",
   "metadata": {},
   "source": [
    "## Wrangle the data\n",
    "\n",
    "The dashboard should contain the logic to wrangle the raw data into a ```DataFrame``` (or more than one, as required) that will be used for plotting. The wrangling code should be put into a function and called on the data from the JSON file (we'll need to call it again on any data downloaded from the API).  In this template, we just pretend we are wrangling ```rawdata``` and instead generate a dataframe with some random data"
   ]
  },
  {
   "cell_type": "code",
   "execution_count": 4,
   "metadata": {},
   "outputs": [],
   "source": [
    "def parse_date(datestring):\n",
    "    \"\"\" Convert a date string into a pandas datetime object \"\"\"\n",
    "    return pd.to_datetime(datestring, format=\"%Y-%m-%d\")"
   ]
  },
  {
   "cell_type": "code",
   "execution_count": 5,
   "metadata": {
    "scrolled": true
   },
   "outputs": [
    {
     "data": {
      "text/html": [
       "<div>\n",
       "<style scoped>\n",
       "    .dataframe tbody tr th:only-of-type {\n",
       "        vertical-align: middle;\n",
       "    }\n",
       "\n",
       "    .dataframe tbody tr th {\n",
       "        vertical-align: top;\n",
       "    }\n",
       "\n",
       "    .dataframe thead th {\n",
       "        text-align: right;\n",
       "    }\n",
       "</style>\n",
       "<table border=\"1\" class=\"dataframe\">\n",
       "  <thead>\n",
       "    <tr style=\"text-align: right;\">\n",
       "      <th></th>\n",
       "      <th>occipiedBeds</th>\n",
       "      <th>hospital</th>\n",
       "    </tr>\n",
       "  </thead>\n",
       "  <tbody>\n",
       "    <tr>\n",
       "      <th>2020-03-20</th>\n",
       "      <td>0</td>\n",
       "      <td>1277</td>\n",
       "    </tr>\n",
       "    <tr>\n",
       "      <th>2020-03-27</th>\n",
       "      <td>0</td>\n",
       "      <td>9633</td>\n",
       "    </tr>\n",
       "    <tr>\n",
       "      <th>2020-04-03</th>\n",
       "      <td>1788</td>\n",
       "      <td>17918</td>\n",
       "    </tr>\n",
       "    <tr>\n",
       "      <th>2020-04-10</th>\n",
       "      <td>2820</td>\n",
       "      <td>17763</td>\n",
       "    </tr>\n",
       "    <tr>\n",
       "      <th>2020-04-17</th>\n",
       "      <td>2780</td>\n",
       "      <td>12576</td>\n",
       "    </tr>\n",
       "    <tr>\n",
       "      <th>...</th>\n",
       "      <td>...</td>\n",
       "      <td>...</td>\n",
       "    </tr>\n",
       "    <tr>\n",
       "      <th>2023-10-27</th>\n",
       "      <td>0</td>\n",
       "      <td>3062</td>\n",
       "    </tr>\n",
       "    <tr>\n",
       "      <th>2023-11-03</th>\n",
       "      <td>0</td>\n",
       "      <td>2506</td>\n",
       "    </tr>\n",
       "    <tr>\n",
       "      <th>2023-11-10</th>\n",
       "      <td>0</td>\n",
       "      <td>2300</td>\n",
       "    </tr>\n",
       "    <tr>\n",
       "      <th>2023-11-17</th>\n",
       "      <td>0</td>\n",
       "      <td>2012</td>\n",
       "    </tr>\n",
       "    <tr>\n",
       "      <th>2023-11-24</th>\n",
       "      <td>0</td>\n",
       "      <td>1880</td>\n",
       "    </tr>\n",
       "  </tbody>\n",
       "</table>\n",
       "<p>193 rows × 2 columns</p>\n",
       "</div>"
      ],
      "text/plain": [
       "           occipiedBeds hospital\n",
       "2020-03-20            0     1277\n",
       "2020-03-27            0     9633\n",
       "2020-04-03         1788    17918\n",
       "2020-04-10         2820    17763\n",
       "2020-04-17         2780    12576\n",
       "...                 ...      ...\n",
       "2023-10-27            0     3062\n",
       "2023-11-03            0     2506\n",
       "2023-11-10            0     2300\n",
       "2023-11-17            0     2012\n",
       "2023-11-24            0     1880\n",
       "\n",
       "[193 rows x 2 columns]"
      ]
     },
     "execution_count": 5,
     "metadata": {},
     "output_type": "execute_result"
    }
   ],
   "source": [
    "def wrangle_data(rawdata):\n",
    "    \"\"\" Parameters: rawdata - data from json file or API call. Returns a dataframe.\n",
    "    Edit to include the code that wrangles the data, creates the dataframe and fills it in. \"\"\"\n",
    "    datalist=jsondata['data']\n",
    "    dates=[dictionary['date'] for dictionary in datalist ]\n",
    "    dates.sort()\n",
    "    startdate=parse_date(dates[0])\n",
    "    enddate=parse_date(dates[-1])\n",
    "    index=pd.date_range(startdate, enddate, freq='7D')\n",
    "    df=pd.DataFrame(index=index, columns=['occipiedBeds', 'hospital'])\n",
    "\n",
    "    for entry in datalist: # each entry is a dictionary with date, hospital and occipiedBeds\n",
    "        date=parse_date(entry['date'])\n",
    "        for column in ['occipiedBeds', 'hospital']:\n",
    "            # check that nothing is there yet - just in case some dates are duplicated,\n",
    "            # maybe with data for different columns in each entry\n",
    "            if pd.isna(df.loc[date, column]): \n",
    "                # replace None with 0 in our data \n",
    "                value=entry[column] if entry[column]!=None else 0\n",
    "                df.loc[date, column]=value\n",
    "    df.fillna(0, inplace=True)\n",
    "    return df\n",
    "\n",
    "# putting the wrangling code into a function allows you to call it again after refreshing the data through \n",
    "# the API. You should call the function directly on the JSON data when the dashboard starts, by including \n",
    "# the call in this cell as below:\n",
    "df=wrangle_data(jsondata) # df is the dataframe for plotting\n",
    "df"
   ]
  },
  {
   "cell_type": "markdown",
   "metadata": {},
   "source": [
    "## Download current data"
   ]
  },
  {
   "cell_type": "markdown",
   "metadata": {},
   "source": [
    "Give your users an option to refresh the dataset - a \"refresh\" button will do. The button callback should\n",
    "* call the code that accesses the API and download some fresh raw data;\n",
    "* wrangle that data into a dataframe and update the corresponding (global) variable for plotting (here, ```df```);\n",
    "* optionally: force a redraw of the graph and give the user some fredback.\n",
    "\n",
    "Once you get it to work, you may want to wrap your API call inside an exception handler, so that the user is informed, the \"canned\" data are not overwritten and nothing crashes if for any reason the server cannot be reached or data are not available.\n",
    "\n",
    "After you refresh the data, graphs will not update until the user interacts with a widget. You can trick ```iPywidgets``` into redrawing the graph by simulating interaction, as in the ```refresh_graph``` function we define in the Graph and Analysis section below.\n",
    "\n",
    "In this example, clicking on the button below just generates some more random data and refreshes the graph. The button should read *Fetch Data*. If you see anything else, take a deep breath :)"
   ]
  },
  {
   "cell_type": "code",
   "execution_count": 26,
   "metadata": {},
   "outputs": [],
   "source": [
    "# Place your API access code in this function. Do not call this function directly; it will be called by \n",
    "# the button callback. \n",
    "def access_api():\n",
    "    \"\"\" Accesses the PHE API. Return data as a like-for-like replacement for the \"canned\" data loaded from the JSON file. \"\"\"\n",
    "    filters = ['areaType=nation', 'areaName=England']\n",
    "    structure = {\n",
    "        \"date\": \"date\",\n",
    "        \"occipiedBeds\": \"covidOccupiedMVBedsWeekly\",\n",
    "        \"hospital\": \"newAdmissionsWeekly\",\n",
    "    }\n",
    "    \n",
    "    # handle error\n",
    "    try:\n",
    "        occipiedBeds = Cov19API(filters=filters, structure=structure).get_json()\n",
    "        with open(\"occipiedBeds.json\", \"wt\") as OUTF:\n",
    "            json.dump(occipiedBeds, OUTF)\n",
    "        with open(\"occipiedBeds.json\", \"rt\") as INFILE:\n",
    "            jsondata=json.load(INFILE)\n",
    "        return jsondata # return data read from the API\n",
    "    except Exception as ex:\n",
    "        print(f'Exception [{ex}]')\n",
    "        return None"
   ]
  },
  {
   "cell_type": "code",
   "execution_count": 27,
   "metadata": {},
   "outputs": [
    {
     "data": {
      "application/vnd.jupyter.widget-view+json": {
       "model_id": "60022cc58dc745b797603ad4ef35120e",
       "version_major": 2,
       "version_minor": 0
      },
      "text/plain": [
       "Button(button_style='info', description='Refresh', icon='download', style=ButtonStyle(), tooltip='Click to dow…"
      ]
     },
     "metadata": {},
     "output_type": "display_data"
    }
   ],
   "source": [
    "# Printout from this function will be lost in Voila unless captured in an\n",
    "# output widget - therefore, we give feedback to the user by changing the \n",
    "# appearance of the button\n",
    "def api_button_callback(button):\n",
    "    \"\"\" Button callback - it must take the button as its parameter (unused in this case).\n",
    "    Accesses API, wrangles data, updates global variable df used for plotting. \"\"\"\n",
    "    # Get fresh data from the API. If you have time, include some error handling\n",
    "    # around this call.\n",
    "    apidata=access_api()\n",
    "    if apidata:\n",
    "        # wrangle the data and overwrite the dataframe for plotting\n",
    "        global df\n",
    "        df=wrangle_data(apidata)\n",
    "        # the graph won't refresh until the user interacts with the widget.\n",
    "        # this function simulates the interaction, see Graph and Analysis below.\n",
    "        # The function needs to be adapted to your graph; you can omit this call\n",
    "        # in the first instance\n",
    "        refresh_graph()\n",
    "        # after all is done, you can switch the icon on the button to a \"check\" sign\n",
    "        # and optionally disable the button - it won't be needed again. If you are \n",
    "        # implementing error handling, you can use icons \"unlink\" or \"times\" and \n",
    "        # change the button text to \"Unavailable\" when the api call fails.\n",
    "        apibutton.icon=\"check\"\n",
    "        apibutton.description=\"Updated\"\n",
    "        apibutton.button_style=\"success\"\n",
    "    else:\n",
    "        apibutton.icon=\"unlink\"\n",
    "        apibutton.description=\"Unavailable\"\n",
    "        apibutton.button_style=\"danger\"\n",
    "\n",
    "    \n",
    "apibutton=wdg.Button(\n",
    "    description='Refresh', # you may want to change this...\n",
    "    disabled=False,\n",
    "    button_style='info', # 'success', 'info', 'warning', 'danger' or ''\n",
    "    tooltip=\"Click to download current hospital admissions and ventilator bed occupancy of Public Health England data\",\n",
    "    # FontAwesome names without the `fa-` prefix - try \"download\"\n",
    "    icon='download'\n",
    ")\n",
    "\n",
    "# remember to register your button callback function with the button\n",
    "apibutton.on_click(api_button_callback) # the name of your function inside these brackets\n",
    "\n",
    "display(apibutton)\n",
    "\n",
    "# run all cells before clicking on this button"
   ]
  },
  {
   "cell_type": "markdown",
   "metadata": {},
   "source": [
    "## Graphs and Analysis"
   ]
  },
  {
   "cell_type": "markdown",
   "metadata": {},
   "source": [
    "Include at least one graph with interactive controls, as well as some instructions for the user and/or comments on what the graph represents and how it should be explored (this example shows two random walks)"
   ]
  },
  {
   "cell_type": "code",
   "execution_count": 8,
   "metadata": {},
   "outputs": [
    {
     "data": {
      "application/vnd.jupyter.widget-view+json": {
       "model_id": "187de2bb164e41b58dd468e9aea82f80",
       "version_major": 2,
       "version_minor": 0
      },
      "text/plain": [
       "SelectMultiple(description='Type: ', index=(0, 1), options=('hospital', 'occipiedBeds'), rows=2, value=('hospi…"
      ]
     },
     "metadata": {},
     "output_type": "display_data"
    },
    {
     "data": {
      "application/vnd.jupyter.widget-view+json": {
       "model_id": "0201dad31f314d00a97e291eeaecf426",
       "version_major": 2,
       "version_minor": 0
      },
      "text/plain": [
       "Output()"
      ]
     },
     "metadata": {},
     "output_type": "display_data"
    }
   ],
   "source": [
    "def plot_type(type):\n",
    "    \"\"\" Our sample graph plotting function \"\"\"\n",
    "    df[list(type)].plot()\n",
    "    plt.show() # important! update won't work properly without this\n",
    "\n",
    "# a sample widget\n",
    "typecols=wdg.SelectMultiple(\n",
    "    options=['hospital', 'occipiedBeds'],\n",
    "    value=['hospital', 'occipiedBeds'],\n",
    "    rows=2,\n",
    "    description='Type: ',\n",
    "    disabled=False,\n",
    ")\n",
    "\n",
    "def refresh_graph():\n",
    "    \"\"\" We change the value of the widget in order to force a redraw of the graph;\n",
    "    this is useful when the data have been updated. This is a bit of a gimmick; it\n",
    "    needs to be customised for one of your widgets. \"\"\"\n",
    "    current=typecols.value\n",
    "    if current[0]==typecols.options[0]:\n",
    "        other=typecols.options[1]\n",
    "    else:\n",
    "        other=typecols.options[0]\n",
    "    typecols.value=[other] # forces the redraw\n",
    "    typecols.value=current # now we can change it back\n",
    "\n",
    "# connect the plotting function and the widget    \n",
    "graph=wdg.interactive_output(plot_type, {'type': typecols})\n",
    "\n",
    "# actually displays the graph\n",
    "display(typecols, graph)"
   ]
  },
  {
   "cell_type": "markdown",
   "metadata": {},
   "source": [
    "## Deploying the dashboard\n",
    "\n",
    "Once your code is ready and you are satisfied with the appearance of the graphs, replace all the text boxes above with the explanations you would like a dashboard user to see. The next step is deploying the dashboard online - there are several [options](https://voila.readthedocs.io/en/stable/deploy.html) for this, we suggest deploying as a [Binder](https://mybinder.org/). This is basically the same technique that has been used to package this tutorial and to deploy this template dashboard. The instructions may seem a bit involved, but the actual steps are surprisingly easy - we will be going through them together during a live session. You will need an account on [GitHub](https://github.com/) for this - if you don't have one already, now it's the time to create it. "
   ]
  },
  {
   "cell_type": "markdown",
   "metadata": {},
   "source": [
    "**Author and Copyright Notice** Remember that if you deploy this dashboard as a Binder it will be publicly accessible. Take credit for your work! Also acknowledge your sources: Based on UK Government [data](https://coronavirus.data.gov.uk/) published by [Public Health England](https://www.gov.uk/government/organisations/public-health-england) and on the [DIY Covid Dashboard Kit](https://github.com/fsmeraldi/diy-covid19dash), Copyright (C) Fabrizio Smeraldi 2020,2023. Released under the [GNU GPLv3.0 or later](https://www.gnu.org/licenses/)."
   ]
  }
 ],
 "metadata": {
  "kernelspec": {
   "display_name": "Python 3 (ipykernel)",
   "language": "python",
   "name": "python3"
  },
  "language_info": {
   "codemirror_mode": {
    "name": "ipython",
    "version": 3
   },
   "file_extension": ".py",
   "mimetype": "text/x-python",
   "name": "python",
   "nbconvert_exporter": "python",
   "pygments_lexer": "ipython3",
   "version": "3.10.13"
  }
 },
 "nbformat": 4,
 "nbformat_minor": 4
}
